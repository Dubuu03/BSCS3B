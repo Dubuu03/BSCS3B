{
 "cells": [
  {
   "cell_type": "code",
   "execution_count": null,
   "metadata": {},
   "outputs": [],
   "source": [
    "import pandas as pd\n",
    "import matplotlib.pyplot as plt\n",
    "import numpy as np"
   ]
  },
  {
   "cell_type": "code",
   "execution_count": 2,
   "metadata": {},
   "outputs": [
    {
     "data": {
      "text/html": [
       "<div>\n",
       "<style scoped>\n",
       "    .dataframe tbody tr th:only-of-type {\n",
       "        vertical-align: middle;\n",
       "    }\n",
       "\n",
       "    .dataframe tbody tr th {\n",
       "        vertical-align: top;\n",
       "    }\n",
       "\n",
       "    .dataframe thead th {\n",
       "        text-align: right;\n",
       "    }\n",
       "</style>\n",
       "<table border=\"1\" class=\"dataframe\">\n",
       "  <thead>\n",
       "    <tr style=\"text-align: right;\">\n",
       "      <th></th>\n",
       "      <th>Duration</th>\n",
       "      <th>Average_Pulse</th>\n",
       "      <th>Max_Pulse</th>\n",
       "      <th>Calorie_Burnage</th>\n",
       "      <th>Hours_Work</th>\n",
       "      <th>Hours_Sleep</th>\n",
       "    </tr>\n",
       "  </thead>\n",
       "  <tbody>\n",
       "    <tr>\n",
       "      <th>0</th>\n",
       "      <td>30</td>\n",
       "      <td>80</td>\n",
       "      <td>120</td>\n",
       "      <td>240</td>\n",
       "      <td>10</td>\n",
       "      <td>7</td>\n",
       "    </tr>\n",
       "    <tr>\n",
       "      <th>1</th>\n",
       "      <td>45</td>\n",
       "      <td>85</td>\n",
       "      <td>120</td>\n",
       "      <td>250</td>\n",
       "      <td>10</td>\n",
       "      <td>7</td>\n",
       "    </tr>\n",
       "    <tr>\n",
       "      <th>2</th>\n",
       "      <td>45</td>\n",
       "      <td>90</td>\n",
       "      <td>130</td>\n",
       "      <td>260</td>\n",
       "      <td>8</td>\n",
       "      <td>7</td>\n",
       "    </tr>\n",
       "    <tr>\n",
       "      <th>3</th>\n",
       "      <td>60</td>\n",
       "      <td>95</td>\n",
       "      <td>130</td>\n",
       "      <td>270</td>\n",
       "      <td>8</td>\n",
       "      <td>7</td>\n",
       "    </tr>\n",
       "    <tr>\n",
       "      <th>4</th>\n",
       "      <td>60</td>\n",
       "      <td>100</td>\n",
       "      <td>140</td>\n",
       "      <td>280</td>\n",
       "      <td>0</td>\n",
       "      <td>7</td>\n",
       "    </tr>\n",
       "    <tr>\n",
       "      <th>5</th>\n",
       "      <td>60</td>\n",
       "      <td>105</td>\n",
       "      <td>140</td>\n",
       "      <td>290</td>\n",
       "      <td>7</td>\n",
       "      <td>8</td>\n",
       "    </tr>\n",
       "    <tr>\n",
       "      <th>6</th>\n",
       "      <td>60</td>\n",
       "      <td>110</td>\n",
       "      <td>145</td>\n",
       "      <td>300</td>\n",
       "      <td>7</td>\n",
       "      <td>8</td>\n",
       "    </tr>\n",
       "    <tr>\n",
       "      <th>7</th>\n",
       "      <td>45</td>\n",
       "      <td>115</td>\n",
       "      <td>145</td>\n",
       "      <td>310</td>\n",
       "      <td>8</td>\n",
       "      <td>8</td>\n",
       "    </tr>\n",
       "    <tr>\n",
       "      <th>8</th>\n",
       "      <td>60</td>\n",
       "      <td>120</td>\n",
       "      <td>150</td>\n",
       "      <td>320</td>\n",
       "      <td>0</td>\n",
       "      <td>8</td>\n",
       "    </tr>\n",
       "    <tr>\n",
       "      <th>9</th>\n",
       "      <td>45</td>\n",
       "      <td>125</td>\n",
       "      <td>150</td>\n",
       "      <td>330</td>\n",
       "      <td>8</td>\n",
       "      <td>8</td>\n",
       "    </tr>\n",
       "  </tbody>\n",
       "</table>\n",
       "</div>"
      ],
      "text/plain": [
       "   Duration  Average_Pulse  Max_Pulse  Calorie_Burnage  Hours_Work  \\\n",
       "0        30             80        120              240          10   \n",
       "1        45             85        120              250          10   \n",
       "2        45             90        130              260           8   \n",
       "3        60             95        130              270           8   \n",
       "4        60            100        140              280           0   \n",
       "5        60            105        140              290           7   \n",
       "6        60            110        145              300           7   \n",
       "7        45            115        145              310           8   \n",
       "8        60            120        150              320           0   \n",
       "9        45            125        150              330           8   \n",
       "\n",
       "   Hours_Sleep  \n",
       "0            7  \n",
       "1            7  \n",
       "2            7  \n",
       "3            7  \n",
       "4            7  \n",
       "5            8  \n",
       "6            8  \n",
       "7            8  \n",
       "8            8  \n",
       "9            8  "
      ]
     },
     "execution_count": 2,
     "metadata": {},
     "output_type": "execute_result"
    }
   ],
   "source": [
    "# No. 1\n",
    "health_data= pd.read_csv('data.csv', header=0, sep=',')\n",
    "health_data\n",
    "\n",
    "health_data"
   ]
  },
  {
   "cell_type": "code",
   "execution_count": 3,
   "metadata": {},
   "outputs": [
    {
     "data": {
      "image/png": "[encoded data removed]",
      "text/plain": [
       "<Figure size 640x480 with 1 Axes>"
      ]
     },
     "metadata": {},
     "output_type": "display_data"
    }
   ],
   "source": [
    "# No. 2\n",
    "health_data.plot(x='Average_Pulse', y='Calorie_Burnage',kind='line')\n",
    "\n",
    "plt.ylim(ymin=0)\n",
    "plt.xlim(xmin=0)\n",
    "\n",
    "plt.show()"
   ]
  },
  {
   "cell_type": "code",
   "execution_count": 4,
   "metadata": {},
   "outputs": [
    {
     "data": {
      "image/png": "[encoded data removed]",
      "text/plain": [
       "<Figure size 640x480 with 1 Axes>"
      ]
     },
     "metadata": {},
     "output_type": "display_data"
    }
   ],
   "source": [
    "# No. 3\n",
    "plt.plot(health_data['Average_Pulse'], health_data['Calorie_Burnage'], 'o-b', label='Calorie Burnage')\n",
    "health_data.dropna(inplace=True)\n",
    "\n",
    "plt.ylim(ymin=0)\n",
    "plt.xlim(xmin=0)\n",
    "\n",
    "plt.xlabel('Average Pulse')\n",
    "plt.ylabel('Calorie Burnage')\n",
    "\n",
    "plt.legend()\n",
    "\n",
    "plt.show()"
   ]
  },
  {
   "cell_type": "code",
   "execution_count": 5,
   "metadata": {},
   "outputs": [
    {
     "data": {
      "image/png": "[encoded data removed]",
      "text/plain": [
       "<Figure size 640x480 with 1 Axes>"
      ]
     },
     "metadata": {},
     "output_type": "display_data"
    }
   ],
   "source": [
    "# No. 4\n",
    "plt.plot(health_data['Average_Pulse'], health_data['Calorie_Burnage'], 'o-b', label='Calorie Burnage')\n",
    "health_data.dropna(inplace=True)\n",
    "\n",
    "plt.ylim(ymin=0, ymax=400)\n",
    "plt.xlim(xmin=0, xmax=150)\n",
    "\n",
    "plt.xlabel('Average Pulse')\n",
    "plt.ylabel('Calorie Burnage')\n",
    "\n",
    "plt.legend()\n",
    "\n",
    "plt.show()"
   ]
  },
  {
   "cell_type": "code",
   "execution_count": 6,
   "metadata": {},
   "outputs": [
    {
     "name": "stdout",
     "output_type": "stream",
     "text": [
      "2.0\n"
     ]
    }
   ],
   "source": [
    "# Slope = f(x2) - f(x1) / x2-x1\n",
    "\n",
    "# f(x2)/y2 = Second observation of Calorie_Burnage = 260\n",
    "# f(x1)/y1 = First observation of Calorie_Burnage = 240\n",
    "# x2 = Second observation of Average_Pulse = 90\n",
    "# x1 = First observation of Average_Pulse = 80\n",
    "\n",
    "def slope(x1, x2, y1, y2):\n",
    "  s = (y2-y1)/(x2-x1)\n",
    "  return s\n",
    "\n",
    "print (slope(80,90,240,260))\n"
   ]
  },
  {
   "cell_type": "code",
   "execution_count": 7,
   "metadata": {},
   "outputs": [
    {
     "data": {
      "text/html": [
       "<div>\n",
       "<style scoped>\n",
       "    .dataframe tbody tr th:only-of-type {\n",
       "        vertical-align: middle;\n",
       "    }\n",
       "\n",
       "    .dataframe tbody tr th {\n",
       "        vertical-align: top;\n",
       "    }\n",
       "\n",
       "    .dataframe thead th {\n",
       "        text-align: right;\n",
       "    }\n",
       "</style>\n",
       "<table border=\"1\" class=\"dataframe\">\n",
       "  <thead>\n",
       "    <tr style=\"text-align: right;\">\n",
       "      <th></th>\n",
       "      <th>Duration</th>\n",
       "      <th>Average_Pulse</th>\n",
       "      <th>Max_Pulse</th>\n",
       "      <th>Calorie_Burnage</th>\n",
       "      <th>Hours_Work</th>\n",
       "      <th>Hours_Sleep</th>\n",
       "    </tr>\n",
       "  </thead>\n",
       "  <tbody>\n",
       "    <tr>\n",
       "      <th>0</th>\n",
       "      <td>30</td>\n",
       "      <td>80</td>\n",
       "      <td>120</td>\n",
       "      <td>240</td>\n",
       "      <td>10</td>\n",
       "      <td>7</td>\n",
       "    </tr>\n",
       "    <tr>\n",
       "      <th>1</th>\n",
       "      <td>45</td>\n",
       "      <td>85</td>\n",
       "      <td>120</td>\n",
       "      <td>250</td>\n",
       "      <td>10</td>\n",
       "      <td>7</td>\n",
       "    </tr>\n",
       "    <tr>\n",
       "      <th>2</th>\n",
       "      <td>45</td>\n",
       "      <td>90</td>\n",
       "      <td>130</td>\n",
       "      <td>260</td>\n",
       "      <td>8</td>\n",
       "      <td>7</td>\n",
       "    </tr>\n",
       "    <tr>\n",
       "      <th>3</th>\n",
       "      <td>60</td>\n",
       "      <td>95</td>\n",
       "      <td>130</td>\n",
       "      <td>270</td>\n",
       "      <td>8</td>\n",
       "      <td>7</td>\n",
       "    </tr>\n",
       "    <tr>\n",
       "      <th>4</th>\n",
       "      <td>60</td>\n",
       "      <td>100</td>\n",
       "      <td>140</td>\n",
       "      <td>280</td>\n",
       "      <td>0</td>\n",
       "      <td>7</td>\n",
       "    </tr>\n",
       "    <tr>\n",
       "      <th>5</th>\n",
       "      <td>60</td>\n",
       "      <td>105</td>\n",
       "      <td>140</td>\n",
       "      <td>290</td>\n",
       "      <td>7</td>\n",
       "      <td>8</td>\n",
       "    </tr>\n",
       "    <tr>\n",
       "      <th>6</th>\n",
       "      <td>60</td>\n",
       "      <td>110</td>\n",
       "      <td>145</td>\n",
       "      <td>300</td>\n",
       "      <td>7</td>\n",
       "      <td>8</td>\n",
       "    </tr>\n",
       "    <tr>\n",
       "      <th>7</th>\n",
       "      <td>45</td>\n",
       "      <td>115</td>\n",
       "      <td>145</td>\n",
       "      <td>310</td>\n",
       "      <td>8</td>\n",
       "      <td>8</td>\n",
       "    </tr>\n",
       "    <tr>\n",
       "      <th>8</th>\n",
       "      <td>60</td>\n",
       "      <td>120</td>\n",
       "      <td>150</td>\n",
       "      <td>320</td>\n",
       "      <td>0</td>\n",
       "      <td>8</td>\n",
       "    </tr>\n",
       "    <tr>\n",
       "      <th>9</th>\n",
       "      <td>45</td>\n",
       "      <td>125</td>\n",
       "      <td>150</td>\n",
       "      <td>330</td>\n",
       "      <td>8</td>\n",
       "      <td>8</td>\n",
       "    </tr>\n",
       "  </tbody>\n",
       "</table>\n",
       "</div>"
      ],
      "text/plain": [
       "   Duration  Average_Pulse  Max_Pulse  Calorie_Burnage  Hours_Work  \\\n",
       "0        30             80        120              240          10   \n",
       "1        45             85        120              250          10   \n",
       "2        45             90        130              260           8   \n",
       "3        60             95        130              270           8   \n",
       "4        60            100        140              280           0   \n",
       "5        60            105        140              290           7   \n",
       "6        60            110        145              300           7   \n",
       "7        45            115        145              310           8   \n",
       "8        60            120        150              320           0   \n",
       "9        45            125        150              330           8   \n",
       "\n",
       "   Hours_Sleep  \n",
       "0            7  \n",
       "1            7  \n",
       "2            7  \n",
       "3            7  \n",
       "4            7  \n",
       "5            8  \n",
       "6            8  \n",
       "7            8  \n",
       "8            8  \n",
       "9            8  "
      ]
     },
     "execution_count": 7,
     "metadata": {},
     "output_type": "execute_result"
    }
   ],
   "source": [
    "health_data"
   ]
  },
  {
   "cell_type": "code",
   "execution_count": 8,
   "metadata": {},
   "outputs": [
    {
     "name": "stdout",
     "output_type": "stream",
     "text": [
      "[ 2. 80.]\n"
     ]
    }
   ],
   "source": [
    "# No. 5\n",
    "x = health_data[\"Average_Pulse\"]\n",
    "y = health_data[\"Calorie_Burnage\"]\n",
    "slope_intercept = np.polyfit(x,y,1)\n",
    "\n",
    "print(slope_intercept)"
   ]
  },
  {
   "cell_type": "code",
   "execution_count": 9,
   "metadata": {},
   "outputs": [
    {
     "name": "stdout",
     "output_type": "stream",
     "text": [
      "Calorie Burnage:  144\n"
     ]
    }
   ],
   "source": [
    "# No. 6\n",
    "def my_function(x):\n",
    "  return 2*x + 80\n",
    "\n",
    "avp= int(input('Enter Average Pulse: '))\n",
    "print ('Calorie Burnage: ',my_function(avp))"
   ]
  },
  {
   "cell_type": "code",
   "execution_count": null,
   "metadata": {},
   "outputs": [],
   "source": []
  }
 ],
 "metadata": {
  "kernelspec": {
   "display_name": "Python 3",
   "language": "python",
   "name": "python3"
  },
  "language_info": {
   "codemirror_mode": {
    "name": "ipython",
    "version": 3
   },
   "file_extension": ".py",
   "mimetype": "text/x-python",
   "name": "python",
   "nbconvert_exporter": "python",
   "pygments_lexer": "ipython3",
   "version": "3.11.9"
  }
 },
 "nbformat": 4,
 "nbformat_minor": 2
}
