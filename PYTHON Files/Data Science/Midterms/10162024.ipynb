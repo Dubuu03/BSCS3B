{
 "cells": [
  {
   "cell_type": "code",
   "execution_count": 126,
   "metadata": {},
   "outputs": [],
   "source": [
    "import pandas as pd\n",
    "import matplotlib.pyplot as plt\n",
    "import numpy as np"
   ]
  },
  {
   "cell_type": "code",
   "execution_count": 144,
   "metadata": {},
   "outputs": [
    {
     "data": {
      "text/plain": [
       "Duration           int64\n",
       "Average_Pulse      int64\n",
       "Max_Pulse          int64\n",
       "Calorie_Burnage    int64\n",
       "Hours_Work         int64\n",
       "Hours_Sleep        int64\n",
       "dtype: object"
      ]
     },
     "execution_count": 144,
     "metadata": {},
     "output_type": "execute_result"
    }
   ],
   "source": [
    "# No. 1\n",
    "health_data= pd.read_csv('data.csv', header=0, sep=',')\n",
    "health_data\n",
    "\n",
    "health_data.dtypes"
   ]
  },
  {
   "cell_type": "code",
   "execution_count": null,
   "metadata": {},
   "outputs": [],
   "source": [
    "# No. 2\n",
    "health_data.plot(x='Average_Pulse', y='Calorie_Burnage',kind='line')\n",
    "\n",
    "plt.ylim(ymin=0)\n",
    "plt.xlim(xmin=0)\n",
    "\n",
    "plt.show()"
   ]
  },
  {
   "cell_type": "code",
   "execution_count": null,
   "metadata": {},
   "outputs": [],
   "source": [
    "# No. 3\n",
    "plt.plot(health_data['Average_Pulse'], health_data['Calorie_Burnage'], 'o-b', label='Calorie Burnage')\n",
    "health_data.dropna(inplace=True)\n",
    "\n",
    "plt.ylim(ymin=0)\n",
    "plt.xlim(xmin=0)\n",
    "\n",
    "plt.xlabel('Average Pulse')\n",
    "plt.ylabel('Calorie Burnage')\n",
    "\n",
    "plt.legend()\n",
    "\n",
    "plt.show()"
   ]
  },
  {
   "cell_type": "code",
   "execution_count": null,
   "metadata": {},
   "outputs": [],
   "source": [
    "# No. 4\n",
    "plt.plot(health_data['Average_Pulse'], health_data['Calorie_Burnage'], 'o-b', label='Calorie Burnage')\n",
    "health_data.dropna(inplace=True)\n",
    "\n",
    "plt.ylim(ymin=0, ymax=400)\n",
    "plt.xlim(xmin=0, xmax=150)\n",
    "\n",
    "plt.xlabel('Average Pulse')\n",
    "plt.ylabel('Calorie Burnage')\n",
    "\n",
    "plt.legend()\n",
    "\n",
    "plt.show()"
   ]
  },
  {
   "cell_type": "code",
   "execution_count": 131,
   "metadata": {},
   "outputs": [],
   "source": [
    "# Slope = f(x2) - f(x1) / x2-x1\n",
    "\n",
    "# f(x2)/y2 = Second observation of Calorie_Burnage = 260\n",
    "# f(x1)/y1 = First observation of Calorie_Burnage = 240\n",
    "# x2 = Second observation of Average_Pulse = 90\n",
    "# x1 = First observation of Average_Pulse = 80\n",
    "\n",
    "# def slope(x1, y1, x2, y2):\n",
    "#   s = (y2-y1)/(x2-x1)\n",
    "#   return s\n",
    "\n",
    "# print (slope(80,240,90,260))\n"
   ]
  },
  {
   "cell_type": "code",
   "execution_count": 133,
   "metadata": {},
   "outputs": [
    {
     "name": "stdout",
     "output_type": "stream",
     "text": [
      "[ 2. 80.]\n"
     ]
    }
   ],
   "source": [
    "# No. 5\n",
    "x = health_data[\"Average_Pulse\"]\n",
    "y = health_data[\"Calorie_Burnage\"]\n",
    "slope_intercept = np.polyfit(x,y,1)\n",
    "\n",
    "print(slope_intercept)"
   ]
  },
  {
   "cell_type": "code",
   "execution_count": 143,
   "metadata": {},
   "outputs": [
    {
     "name": "stdout",
     "output_type": "stream",
     "text": [
      "Calorie Burnage:  350\n"
     ]
    }
   ],
   "source": [
    "# No. 6\n",
    "def my_function(x):\n",
    "  return 2*x + 80\n",
    "\n",
    "avp= int(input('Enter Average Pulse: '))\n",
    "print ('Calorie Burnage: ',my_function(avp))"
   ]
  },
  {
   "cell_type": "code",
   "execution_count": null,
   "metadata": {},
   "outputs": [],
   "source": []
  }
 ],
 "metadata": {
  "kernelspec": {
   "display_name": "Python 3",
   "language": "python",
   "name": "python3"
  },
  "language_info": {
   "codemirror_mode": {
    "name": "ipython",
    "version": 3
   },
   "file_extension": ".py",
   "mimetype": "text/x-python",
   "name": "python",
   "nbconvert_exporter": "python",
   "pygments_lexer": "ipython3",
   "version": "3.12.4"
  }
 },
 "nbformat": 4,
 "nbformat_minor": 2
}
