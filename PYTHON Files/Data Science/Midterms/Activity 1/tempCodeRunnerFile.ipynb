intercept = ceil(intercept) - 1


for i in range(1,6):
    marketing_spend = int(input("Enter Total Sales " + str(i)))
    total