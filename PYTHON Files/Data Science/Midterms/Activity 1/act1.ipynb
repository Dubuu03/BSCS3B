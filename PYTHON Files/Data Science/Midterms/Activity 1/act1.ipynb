{
 "cells": [
  {
   "cell_type": "code",
   "execution_count": null,
   "metadata": {},
   "outputs": [],
   "source": [
    "import pandas as pd\n",
    "import numpy as np\n",
    "from math import ceil\n",
    "data = pd.read_csv('Markering Data.csv')\n",
    "\n",
    "slope,intercept=np.polyfit(data['Marketing_Spend'],data['Total_Sales'],1)\n",
    "slope = ceil(slope)\n",
    "intercept = ceil(intercept) - 1\n",
    "\n",
    "\n",
    "for i in range(1,6):\n",
    "    marketing_spend = int(input(\"Enter Total Sales \" + str(i)))\n",
    "    total_sales = marketing_spend/3 - intercept\n",
    "    for j in range(1):\n",
    "        print(\"Marketing Spend: \", i,marketing_spend,total_sales)\n",
    "       \n",
    "   \n",
    "    "
   ]
  },
  {
   "cell_type": "code",
   "execution_count": null,
   "metadata": {},
   "outputs": [],
   "source": []
  },
  {
   "cell_type": "code",
   "execution_count": null,
   "metadata": {},
   "outputs": [],
   "source": []
  }
 ],
 "metadata": {
  "kernelspec": {
   "display_name": "Python 3",
   "language": "python",
   "name": "python3"
  },
  "language_info": {
   "codemirror_mode": {
    "name": "ipython",
    "version": 3
   },
   "file_extension": ".py",
   "mimetype": "text/x-python",
   "name": "python",
   "nbconvert_exporter": "python",
   "pygments_lexer": "ipython3",
   "version": "3.11.9"
  }
 },
 "nbformat": 4,
 "nbformat_minor": 2
}
